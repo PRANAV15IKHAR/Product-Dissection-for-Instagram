{
  "cells": [
    {
      "cell_type": "markdown",
      "metadata": {
        "colab_type": "text",
        "id": "view-in-github"
      },
      "source": [
        "<a href=\"https://colab.research.google.com/github/ShubhamYadav369/Product-Dissection-for-Instagram/blob/Shubh/Product_Dissection_for_Instagram.ipynb\" target=\"_parent\"><img src=\"https://colab.research.google.com/assets/colab-badge.svg\" alt=\"Open In Colab\"/></a>"
      ]
    },
    {
      "cell_type": "markdown",
      "metadata": {
        "id": "0i5qL8HHT4Mq"
      },
      "source": [
        "#Product Dissection for Instagram"
      ]
    },
    {
      "cell_type": "markdown",
      "metadata": {
        "id": "HbJ7UGf7T75w"
      },
      "source": [
        "Name-Pranav V Ikhar\n"
      ]
    },
    {
      "cell_type": "code",
      "execution_count": 1,
      "metadata": {
        "id": "M1yZWGzLCa56"
      },
      "outputs": [],
      "source": [
        "import sqlite3\n",
        "\n",
        "conn = sqlite3.connect('instagram.db')\n",
        "\n",
        "c = conn.cursor()"
      ]
    },
    {
      "cell_type": "code",
      "execution_count": 2,
      "metadata": {
        "colab": {
          "base_uri": "https://localhost:8080/"
        },
        "id": "11mvDmdqP-3h",
        "outputId": "5541db21-4422-4510-a91b-c4c027f82f30"
      },
      "outputs": [
        {
          "data": {
            "text/plain": [
              "<sqlite3.Cursor at 0x7a7752d790c0>"
            ]
          },
          "execution_count": 2,
          "metadata": {},
          "output_type": "execute_result"
        }
      ],
      "source": [
        "# Create Users table\n",
        "c.execute('''\n",
        "          CREATE TABLE Users\n",
        "          (UserID integer PRIMARY KEY,\n",
        "           Username text,\n",
        "           Email text,\n",
        "           FullName text,\n",
        "           Bio text,\n",
        "           JoinedDate text)\n",
        "          ''')\n"
      ]
    },
    {
      "cell_type": "markdown",
      "metadata": {
        "id": "DrPPxnnqN7yB"
      },
      "source": [
        "The Instagram schema defines relationships through the use of foreign keys, which connect distinct tables. Let's go over each relationship using the SQLite schema that was provided:\n",
        "\n",
        "##Users make posts:\n",
        "\n",
        "#Relationship:\n",
        " Each user can make several entries.\n",
        "#Foreign Key:\n",
        "The UserID column in the posts table is a foreign key that references the UserID column in the users table.\n",
        "Meaning: This relationship ensures that each post is associated with a genuine user. Users, defined by their UserID, can create multiple posts.\n"
      ]
    },
    {
      "cell_type": "code",
      "execution_count": 3,
      "metadata": {
        "colab": {
          "base_uri": "https://localhost:8080/"
        },
        "id": "nerBolLsOi0R",
        "outputId": "6bbf895a-64c4-4785-d8b5-a598838e86e7"
      },
      "outputs": [
        {
          "data": {
            "text/plain": [
              "<sqlite3.Cursor at 0x7a7752d790c0>"
            ]
          },
          "execution_count": 3,
          "metadata": {},
          "output_type": "execute_result"
        }
      ],
      "source": [
        "# Create Posts table\n",
        "c.execute('''\n",
        "          CREATE TABLE Posts\n",
        "          (PostID integer PRIMARY KEY,\n",
        "           UserID integer,\n",
        "           ImageURL text,\n",
        "           Caption text,\n",
        "           PostedDate text,\n",
        "           FOREIGN KEY(UserID) REFERENCES Users(UserID))\n",
        "          ''')"
      ]
    },
    {
      "cell_type": "markdown",
      "metadata": {
        "id": "HqhogyKhOnjT"
      },
      "source": [
        "# Users leave comments on posts:\n",
        "\n",
        "#Relationship:\n",
        "Users can comment on many posts, and each post can have multiple comments.\n",
        "#Foreign Keys:\n",
        "\n",
        "The PostID column in the comments table is a foreign key that references the PostID column in the posts table.\n",
        "\n",
        "\n",
        "The UserID column in the comments table is a foreign key that refers to the UserID column in the users table.\n",
        "\n",
        "\n",
        "Meaning: This relationship ensures that each remark is associated with a genuine post and a valid user. Users can comment on numerous posts, and each post can have several comments.\n",
        "\n"
      ]
    },
    {
      "cell_type": "code",
      "execution_count": 4,
      "metadata": {
        "colab": {
          "base_uri": "https://localhost:8080/"
        },
        "id": "Mw9Svcm_OKPj",
        "outputId": "c5aa25a1-78c6-4d37-a061-01ef4dae97c1"
      },
      "outputs": [
        {
          "data": {
            "text/plain": [
              "<sqlite3.Cursor at 0x7a7752d790c0>"
            ]
          },
          "execution_count": 4,
          "metadata": {},
          "output_type": "execute_result"
        }
      ],
      "source": [
        "# Create Comments table\n",
        "c.execute('''\n",
        "          CREATE TABLE Comments\n",
        "          (CommentID integer PRIMARY KEY,\n",
        "           PostID integer,\n",
        "           UserID integer,\n",
        "           Text text,\n",
        "           CommentDate text,\n",
        "           FOREIGN KEY(PostID) REFERENCES Posts(PostID),\n",
        "           FOREIGN KEY(UserID) REFERENCES Users(UserID))\n",
        "          ''')\n"
      ]
    },
    {
      "cell_type": "markdown",
      "metadata": {
        "id": "NGARwipJPBPJ"
      },
      "source": [
        "# Posts that users like:\n",
        "\n",
        "#Relationship:\n",
        "Users can like numerous posts, and each post can have several likes.\n",
        "#Foreign Keys:\n",
        "The PostID column in the likes table is a foreign key that references the PostID column in the posts table.\n",
        "\n",
        "The UserID column in the likes table is a foreign key that refers to the UserID column in the users table.\n",
        "\n",
        "#Meaning:\n",
        "This relationship ensures that every like is associated with a valid post and a valid user.\n",
        "Users can like numerous posts, and each post can have multiple likes.\n",
        "\n"
      ]
    },
    {
      "cell_type": "code",
      "execution_count": 5,
      "metadata": {
        "colab": {
          "base_uri": "https://localhost:8080/"
        },
        "id": "wfONqP0HPJsu",
        "outputId": "b910a75e-b415-4d34-af0b-5cf9960b3fd7"
      },
      "outputs": [
        {
          "data": {
            "text/plain": [
              "<sqlite3.Cursor at 0x7a7752d790c0>"
            ]
          },
          "execution_count": 5,
          "metadata": {},
          "output_type": "execute_result"
        }
      ],
      "source": [
        "\n",
        "# Create Likes table\n",
        "c.execute('''\n",
        "          CREATE TABLE Likes\n",
        "          (LikeID integer PRIMARY KEY,\n",
        "           PostID integer,\n",
        "           UserID integer,\n",
        "           LikedDate text,\n",
        "           FOREIGN KEY(PostID) REFERENCES Posts(PostID),\n",
        "           FOREIGN KEY(UserID) REFERENCES Users(UserID))\n",
        "          ''')"
      ]
    },
    {
      "cell_type": "markdown",
      "metadata": {
        "id": "MltOOiSpPYI6"
      },
      "source": [
        "#Users who follow others:\n",
        "\n",
        "Users can follow and be followed by multiple people.\n",
        "#Keys from other countries:\n",
        "The ForeignKey column in the followers table refers to the UserID column in the users table.\n",
        "\n",
        "The FollowerUserID column in the followers table is a foreign key to the UserID column in the users table.\n",
        "\n",
        "This relationship assures that both the following and following users are valid users.\n",
        "\n",
        "Users can follow numerous people, and each person can follow multiple people.\n"
      ]
    },
    {
      "cell_type": "code",
      "execution_count": 6,
      "metadata": {
        "colab": {
          "base_uri": "https://localhost:8080/"
        },
        "id": "6QNNdFLSPfSR",
        "outputId": "6fc0e216-4318-4725-cdec-48efb4cfb5ee"
      },
      "outputs": [
        {
          "data": {
            "text/plain": [
              "<sqlite3.Cursor at 0x7a7752d790c0>"
            ]
          },
          "execution_count": 6,
          "metadata": {},
          "output_type": "execute_result"
        }
      ],
      "source": [
        "\n",
        "# Create Follows table\n",
        "c.execute('''\n",
        "          CREATE TABLE Follows\n",
        "          (FollowID integer PRIMARY KEY,\n",
        "           FollowingUserID integer,\n",
        "           FollowerUserID integer,\n",
        "           FollowDate text,\n",
        "           FOREIGN KEY(FollowingUserID) REFERENCES Users(UserID),\n",
        "           FOREIGN KEY(FollowerUserID) REFERENCES Users(UserID))\n",
        "         ''')\n"
      ]
    },
    {
      "cell_type": "markdown",
      "metadata": {
        "id": "K4fmflfUPpTJ"
      },
      "source": [
        "#Hashtags are used in posts:\n",
        "\n",
        "#Relationship:\n",
        "Each hashtag can be associated with many posts, and each post can have several hashtags.\n",
        "#Keys from Other Countries:\n",
        "\n",
        "The PostID column in the post_hashtags table is a foreign key that refers to the PostID column in the posts table.\n",
        "\n",
        "The post_hashtags table's HashtagID column is a foreign key that refers to the hashtags table's HashtagID column.\n",
        "#Meaning:\n",
        "This relationship maintains the validity of all post-hashtag associations.\n",
        "many hashtags can be associated with a single post, and each hashtag can be associated with many posts.\n",
        "\n",
        "These foreign key relationships provide data integrity and enforce linkages between various entities in the Instagram database model.\n"
      ]
    },
    {
      "cell_type": "code",
      "execution_count": 7,
      "metadata": {
        "colab": {
          "base_uri": "https://localhost:8080/"
        },
        "id": "qY86Fi5LP2W7",
        "outputId": "0cb9a822-f60d-4246-fd27-ed250e15a946"
      },
      "outputs": [
        {
          "data": {
            "text/plain": [
              "<sqlite3.Cursor at 0x7a7752d790c0>"
            ]
          },
          "execution_count": 7,
          "metadata": {},
          "output_type": "execute_result"
        }
      ],
      "source": [
        "# Create Hashtags table\n",
        "c.execute('''\n",
        "         CREATE TABLE Hashtags\n",
        "         (HashtagID integer PRIMARY KEY,\n",
        "          Tag text)\n",
        "         ''')"
      ]
    },
    {
      "cell_type": "code",
      "execution_count": 8,
      "metadata": {
        "id": "14ORvthdQgUK"
      },
      "outputs": [],
      "source": [
        "\n",
        "# Create PostHashtags table\n",
        "c.execute('''\n",
        "         CREATE TABLE PostHashtags\n",
        "         (PostHashtagID integer PRIMARY KEY,\n",
        "          PostID integer,\n",
        "          HashtagID integer,\n",
        "          FOREIGN KEY(PostID) REFERENCES Posts(PostID),\n",
        "          FOREIGN KEY(HashtagID) REFERENCES Hashtags(HashtagID))\n",
        "         ''')\n",
        "\n",
        "conn.commit()\n",
        "conn.close()"
      ]
    }
  ],
  "metadata": {
    "colab": {
      "authorship_tag": "ABX9TyNdGzmntIYvj5MEi18NkajM",
      "include_colab_link": true,
      "provenance": [],
      "toc_visible": true
    },
    "kernelspec": {
      "display_name": "Python 3",
      "name": "python3"
    },
    "language_info": {
      "name": "python"
    }
  },
  "nbformat": 4,
  "nbformat_minor": 0
}
